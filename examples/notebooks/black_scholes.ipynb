{
 "cells": [
  {
   "cell_type": "markdown",
   "metadata": {},
   "source": [
    "# Black-Scholes Option Pricing with Hedgehog.jl\n",
    "\n",
    "This notebook demonstrates how to use Hedgehog.jl to price options using the Black-Scholes model. Hedgehog is a Julia derivatives pricing library that implements a clean, SciML-inspired `solve(problem, method)` design pattern."
   ]
  },
  {
   "cell_type": "markdown",
   "metadata": {},
   "source": [
    "## Setup"
   ]
  },
  {
   "cell_type": "code",
   "execution_count": null,
   "metadata": {},
   "outputs": [],
   "source": [
    "# Add Hedgehog.jl and Accessors\n",
    "using Pkg\n",
    "Pkg.add(url=\"https://github.com/aleCombi/Hedgehog.jl\")\n",
    "Pkg.add(\"Accessors\")\n",
    "\n",
    "using Hedgehog\n",
    "using Accessors\n",
    "using Dates\n",
    "using Plots"
   ]
  },
  {
   "cell_type": "markdown",
   "metadata": {},
   "source": [
    "## 1. Define Option Contract\n",
    "\n",
    "We begin by defining a European Put Option expiring on January 1st, 2021. In Hedgehog, options are represented by `VanillaOption` objects that specify:\n",
    "- Strike price\n",
    "- Expiry date\n",
    "- Exercise style (European or American)\n",
    "- Option type (Call or Put)\n",
    "- Underlying type (Spot or Forward)"
   ]
  },
  {
   "cell_type": "code",
   "execution_count": null,
   "metadata": {},
   "outputs": [],
   "source": [
    "# Define payoff\n",
    "strike = 1.0\n",
    "expiry = Date(2021, 1, 1)\n",
    "payoff = VanillaOption(strike, expiry, European(), Put(), Spot())"
   ]
  },
  {
   "cell_type": "markdown",
   "metadata": {},
   "source": [
    "## 2. Specify Market Inputs\n",
    "\n",
    "Next, we define market parameters needed to price the option:\n",
    "- Reference date (valuation date)\n",
    "- Risk-free interest rate\n",
    "- Underlying spot price\n",
    "- Volatility\n",
    "\n",
    "The Black-Scholes model assumes constant volatility and interest rate."
   ]
  },
  {
   "cell_type": "code",
   "execution_count": null,
   "metadata": {},
   "outputs": [],
   "source": [
    "# Define market inputs\n",
    "reference_date = Date(2020, 1, 1)\n",
    "rate = 0.2       # 20% risk-free rate\n",
    "spot = 1.0       # Spot price of 1.0\n",
    "sigma = 0.4      # 40% volatility\n",
    "market_inputs = BlackScholesInputs(reference_date, rate, spot, sigma)"
   ]
  },
  {
   "cell_type": "markdown",
   "metadata": {},
   "source": [
    "## 3. Create Pricing Problem\n",
    "\n",
    "In Hedgehog, a pricing problem combines a payoff definition with market inputs."
   ]
  },
  {
   "cell_type": "code",
   "execution_count": null,
   "metadata": {},
   "outputs": [],
   "source": [
    "pricing_problem = PricingProblem(payoff, market_inputs)"
   ]
  },
  {
   "cell_type": "markdown",
   "metadata": {},
   "source": [
    "## 4. Price the Option\n",
    "\n",
    "The Black-Scholes formula provides an analytical solution for European options. The formula for a put option is:\n",
    "\n",
    "$$P = Ke^{-rT}N(-d_2) - S_0N(-d_1)$$\n",
    "\n",
    "where:\n",
    "- $d_1 = \\frac{\\ln(S_0/K) + (r + \\sigma^2/2)T}{\\sigma\\sqrt{T}}$\n",
    "- $d_2 = d_1 - \\sigma\\sqrt{T}$\n",
    "- $N(x)$ is the standard normal cumulative distribution function"
   ]
  },
  {
   "cell_type": "code",
   "execution_count": null,
   "metadata": {},
   "outputs": [],
   "source": [
    "analytical_price = solve(pricing_problem, BlackScholesAnalytic()).price\n",
    "println(\"Black-Scholes analytical price: $analytical_price\")"
   ]
  },
  {
   "cell_type": "markdown",
   "metadata": {},
   "source": [
    "## 5. Alternative Pricing Method: Binomial Tree\n",
    "\n",
    "We can verify our analytical solution using a Cox-Ross-Rubinstein binomial tree model. This numerical method approximates the continuous process with a discrete tree of possible values."
   ]
  },
  {
   "cell_type": "code",
   "execution_count": null,
   "metadata": {},
   "outputs": [],
   "source": [
    "# Cox-Ross-Rubinstein with 800 steps\n",
    "steps = 800\n",
    "crr = CoxRossRubinsteinMethod(steps)\n",
    "crr_price = solve(pricing_problem, crr).price\n",
    "println(\"Binomial tree price (800 steps): $crr_price\")\n",
    "println(\"Difference from analytical: $(abs(analytical_price - crr_price))\")\n",
    "\n",
    "# Increase steps for higher accuracy\n",
    "steps = 10_000\n",
    "crr = CoxRossRubinsteinMethod(steps)\n",
    "crr_price = solve(pricing_problem, crr).price\n",
    "println(\"Binomial tree price (10,000 steps): $crr_price\")\n",
    "println(\"Difference from analytical: $(abs(analytical_price - crr_price))\")"
   ]
  },
  {
   "cell_type": "markdown",
   "metadata": {},
   "source": [
    "## 6. Calculating Greeks\n",
    "\n",
    "\"Greeks\" measure how option prices change with respect to various parameters. Using Hedgehog, we can calculate these sensitivities using multiple methods:\n",
    "\n",
    "1. Finite differences\n",
    "2. Automatic differentiation\n",
    "3. Analytical formulas (when available)\n",
    "\n",
    "### Using Lenses to Define Partial Derivatives\n",
    "\n",
    "Hedgehog uses the concept of \"lenses\" from functional programming to elegantly specify which parameter we want to differentiate with respect to. A lens is essentially a getter/setter that allows us to focus on a specific field within a nested structure.\n",
    "\n",
    "The [Accessors.jl](https://github.com/JuliaObjects/Accessors.jl) package provides these lenses in Julia, allowing us to:\n",
    "- Precisely target specific parameters in complex data structures\n",
    "- Create partial functions for differentiation\n",
    "- Modify deeply nested fields without mutating the original structure\n",
    "\n",
    "When calculating Greeks, we use lenses to tell Hedgehog which market parameter should be perturbed, effectively creating a partial derivative function. This approach makes the code both expressive and composable.\n",
    "\n",
    "### Calculating Delta\n",
    "\n",
    "Delta measures the rate of change of option price with respect to changes in the underlying asset's price:\n",
    "\n",
    "$$\\Delta = \\frac{\\partial V}{\\partial S}$$\n",
    "\n",
    "For a put option in the Black-Scholes model:\n",
    "$$\\Delta_{put} = N(d_1) - 1$$\n",
    "\n",
    "We use the `@optic` macro from Accessors.jl to create a lens targeting the spot price:"
   ]
  },
  {
   "cell_type": "code",
   "execution_count": null,
   "metadata": {},
   "outputs": [],
   "source": [
    "# Define lens for spot price - this creates a partial function for differentiation\n",
    "spot_lens = @optic _.market_inputs.spot\n",
    "greek_problem = GreekProblem(pricing_problem, spot_lens)\n",
    "\n",
    "# Calculate delta using three methods\n",
    "delta_fd = solve(greek_problem, FiniteDifference(1e-3), BlackScholesAnalytic()).greek\n",
    "delta_ad = solve(greek_problem, ForwardAD(), BlackScholesAnalytic()).greek\n",
    "delta_an = solve(greek_problem, AnalyticGreek(), BlackScholesAnalytic()).greek\n",
    "\n",
    "println(\"Delta (Finite Difference): $delta_fd\")\n",
    "println(\"Delta (Auto Diff): $delta_ad\")\n",
    "println(\"Delta (Analytical): $delta_an\")"
   ]
  },
  {
   "cell_type": "markdown",
   "metadata": {},
   "source": [
    "### Calculating Vega\n",
    "\n",
    "Vega measures sensitivity to volatility:\n",
    "\n",
    "$$\\nu = \\frac{\\partial V}{\\partial \\sigma}$$\n",
    "\n",
    "For both calls and puts in the Black-Scholes model:\n",
    "$$\\nu = S_0 \\sqrt{T} \\cdot n(d_1)$$\n",
    "\n",
    "where $n(x)$ is the standard normal probability density function.\n",
    "\n",
    "For volatility, Hedgehog provides a specialized `VolLens` since volatility can be either a scalar value or part of a more complex surface structure. This lens enables us to target specific volatility pillars when working with volatility surfaces:"
   ]
  },
  {
   "cell_type": "code",
   "execution_count": null,
   "metadata": {},
   "outputs": [],
   "source": [
    "# Define lens for volatility - VolLens(i,j) targets the (i,j) element in a vol surface\n",
    "# For flat volatility surfaces, we simply use VolLens(1,1)\n",
    "vol_lens = VolLens(1,1)\n",
    "greek_problem = GreekProblem(pricing_problem, vol_lens)\n",
    "\n",
    "# Calculate vega using three methods\n",
    "vega_fd = solve(greek_problem, FiniteDifference(1e-3), BlackScholesAnalytic()).greek\n",
    "vega_ad = solve(greek_problem, ForwardAD(), BlackScholesAnalytic()).greek\n",
    "vega_an = solve(greek_problem, AnalyticGreek(), BlackScholesAnalytic()).greek\n",
    "\n",
    "println(\"Vega (Finite Difference): $vega_fd\")\n",
    "println(\"Vega (Auto Diff): $vega_ad\")\n",
    "println(\"Vega (Analytical): $vega_an\")"
   ]
  },
  {
   "cell_type": "markdown",
   "metadata": {},
   "source": [
    "## 7. Batch Greek Calculation\n",
    "\n",
    "Often, we want to calculate multiple Greeks at once. Hedgehog provides a `BatchGreekProblem` for efficient calculation of multiple sensitivities:"
   ]
  },
  {
   "cell_type": "code",
   "execution_count": null,
   "metadata": {},
   "outputs": [],
   "source": [
    "# Calculate delta and vega in one call\n",
    "batch_prob = BatchGreekProblem(pricing_problem, [vol_lens, spot_lens])\n",
    "greeks = solve(batch_prob, ForwardAD(), BlackScholesAnalytic())\n",
    "\n",
    "println(\"Batch Greek Results:\")\n",
    "for (greek_name, value) in greeks\n",
    "    println(\"  $greek_name: $value\")\n",
    "end"
   ]
  },
  {
   "cell_type": "markdown",
   "metadata": {},
   "source": [
    "## 8. Implied Volatility Calculation\n",
    "\n",
    "Implied volatility is the volatility value that makes the Black-Scholes price match a market price. This is effectively solving the inverse problem."
   ]
  },
  {
   "cell_type": "code",
   "execution_count": null,
   "metadata": {},
   "outputs": [],
   "source": [
    "# Setup calibration problem - we'll use our analytical price as \"market price\"\n",
    "market_price = analytical_price\n",
    "basket_problem = BasketPricingProblem([payoff], market_inputs)\n",
    "calib = CalibrationProblem(\n",
    "    basket_problem, \n",
    "    BlackScholesAnalytic(), \n",
    "    [vol_lens], \n",
    "    [market_price], \n",
    "    [0.2]  # Initial guess of 20% volatility\n",
    ")\n",
    "\n",
    "# Solve using root finder\n",
    "result = solve(calib, RootFinderAlgo())\n",
    "println(\"Target price: $market_price\")\n",
    "println(\"Initial volatility guess: 20%\")\n",
    "println(\"Implied volatility: $(result.u[1] * 100)%\")\n",
    "println(\"True volatility used in model: $(sigma * 100)%\")"
   ]
  },
  {
   "cell_type": "markdown",
   "metadata": {},
   "source": [
    "## Summary\n",
    "\n",
    "This notebook demonstrated Hedgehog.jl's capabilities for option pricing:\n",
    "\n",
    "1. Creating option contracts and market environment\n",
    "2. Analytical Black-Scholes pricing\n",
    "3. Numerical pricing with binomial trees\n",
    "4. Greeks calculation using multiple methods\n",
    "5. Implied volatility calculation\n",
    "\n",
    "Hedgehog's composable, SciML-inspired design makes it easy to swap between different pricing methods and parameter settings while maintaining a consistent interface."
   ]
  }
 ],
 "metadata": {
  "kernelspec": {
   "display_name": "Julia 1.11.4",
   "language": "julia",
   "name": "julia-1.11"
  },
  "language_info": {
   "file_extension": ".jl",
   "mimetype": "application/julia",
   "name": "julia",
   "version": "1.11.4"
  }
 },
 "nbformat": 4,
 "nbformat_minor": 4
}
